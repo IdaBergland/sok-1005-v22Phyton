{
 "cells": [
  {
   "cell_type": "code",
   "execution_count": null,
   "id": "94f162d9-3d7c-4f86-bdfb-d521c4ec3dcf",
   "metadata": {},
   "outputs": [],
   "source": []
  },
  {
   "cell_type": "markdown",
   "id": "e2cfc0c1-31a6-4680-9836-eb9cc16af4d5",
   "metadata": {},
   "source": [
    "## Mappeoppgave 5 "
   ]
  },
  {
   "cell_type": "code",
   "execution_count": null,
   "id": "991a471d-c8b8-4b2b-83e8-07c8dbe983d6",
   "metadata": {},
   "outputs": [],
   "source": [
    "# Skrape data fra nettet og lage et plot med regresjonslinje."
   ]
  },
  {
   "cell_type": "code",
   "execution_count": 4,
   "id": "d59b39ec-f6b0-465d-b754-429c71cae091",
   "metadata": {},
   "outputs": [
    {
     "name": "stdout",
     "output_type": "stream",
     "text": [
      "<table border=\"1\" cellpadding=\"3\" cellspacing=\"0\" id=\"gvData\" rules=\"all\">\n",
      "<tr>\n",
      "<th scope=\"col\">Country</th><th scope=\"col\">Year</th><th scope=\"col\">Life expectancy at birth</th><th scope=\"col\">GDP - per capita (PPP)</th>\n",
      "</tr><tr>\n",
      "<td>Mozambique</td><td>2003</td><td align=\"right\">31.3</td><td align=\"right\">1200</td>\n",
      "</tr><tr bgcolor=\"WhiteSmoke\">\n",
      "<td>Botswana</td><td>2003</td><td align=\"right\">32.26</td><td align=\"right\">9000</td>\n",
      "</tr><tr>\n",
      "<td>Zambia</td><td>2003</td><td align=\"right\">35.25</td><td align=\"right\">800</td>\n",
      "</tr><tr bgcolor=\"WhiteSmoke\">\n",
      "<td>Lesotho</td><td>2003</td><td align=\"right\">36.94</td><td align=\"right\">3000</td>\n",
      "</tr><tr>\n",
      "<td>Angola</td><td>2003</td><td align=\"right\">36.96</td><td align=\"right\">1900</td>\n",
      "</tr><tr bgcolor=\"WhiteSmoke\">\n",
      "<td>Malawi</td><td>2003</td><td align=\"right\">37.98</td><td align=\"right\">600</td>\n",
      "</tr><tr>\n",
      "<td>Zimbabwe</td><td>2003</td><td align=\"right\">39.01</td><td align=\"right\">1900</td>\n",
      "</tr><tr bgcolor=\"WhiteSmoke\">\n",
      "<td>Rwanda</td><td>2\n"
     ]
    }
   ],
   "source": [
    "from bs4 import BeautifulSoup\n",
    "import requests\n",
    "#BeutifulSoup er et verktøy man bruker slik at man kan finne de taggene man trenger helt enkelt.\n",
    "def fetch_html_tables(url):\n",
    "    \"Returns a list of tables in the html of url\"\n",
    "    page = requests.get(url)\n",
    "    bs=BeautifulSoup(page.content)\n",
    "    tables=bs.find_all('table')\n",
    "    return tables\n",
    "\n",
    "tables=fetch_html_tables('https://www.indexmundi.com/g/correlation.aspx?v1=30&v2=67&y=2003&l=en')\n",
    "table_html=tables[1]\n",
    "\n",
    "#printer toppen\n",
    "print(str(table_html)[:1000])"
   ]
  },
  {
   "cell_type": "code",
   "execution_count": 6,
   "id": "0720618c-db83-4d42-a7be-9e94dc66cb42",
   "metadata": {},
   "outputs": [
    {
     "name": "stdout",
     "output_type": "stream",
     "text": [
      "[['Land', 'År', 'forventet_levealder', 'BNP_percap'], ['Mozambique', '2003', '31.3', '1200'], ['Botswana', '2003', '32.26', '9000'], ['Zambia', '2003', '35.25', '800'], ['Lesotho', '2003', '36.94', '3000'], ['Angola', '2003', '36.96', '1900'], ['Malawi', '2003', '37.98', '600'], ['Zimbabwe', '2003', '39.01', '1900'], ['Rwanda', '2003', '39.33', '1300'], ['Swaziland', '2003', '39.47', '4900'], ['Ethiopia', '2003', '41.24', '700'], ['Central African Republic', '2003', '41.71', '1100'], ['Niger', '2003', '42.21', '800'], [\"Cote d'Ivoire\", '2003', '42.65', '1400'], ['Namibia', '2003', '42.77', '7200'], ['Sierra Leone', '2003', '42.84', '500'], ['Burundi', '2003', '43.2', '600'], ['Burkina Faso', '2003', '44.46', '1100'], ['Tanzania', '2003', '44.56', '600'], ['Uganda', '2003', '44.88', '1400'], ['Kenya', '2003', '45.22', '1000'], ['Mali', '2003', '45.43', '900'], ['South Africa', '2003', '46.56', '10700'], ['Guinea-Bissau', '2003', '46.97', '800'], ['Afghanistan', '2003', '46.97', '800'], \n"
     ]
    }
   ],
   "source": [
    "def html_to_table(html):\n",
    "    \"Returns the table defined in html as a list\"\n",
    "    #definerer tabellen du vil bruke:\n",
    "    table=[]\n",
    "    #iterating over all rows\n",
    "    for row in html.find_all('tr'):\n",
    "        r=[]\n",
    "        #finding all cells in each row:\n",
    "        cells=row.find_all('td')\n",
    "        \n",
    "        #if no cells are found, look for headings\n",
    "        if len(cells)==0:\n",
    "            cells=row.find_all('th')\n",
    "            \n",
    "        #iterate over cells:\n",
    "        for cell in cells:\n",
    "            cell=format(cell)\n",
    "            r.append(cell)\n",
    "        \n",
    "        #append the row to t:\n",
    "        table.append(r)\n",
    "    return table\n",
    "\n",
    "def format(cell):\n",
    "    \"Returns a string after converting bs4 object cell to clean text\"\n",
    "    if cell.content is None:\n",
    "        s=cell.text\n",
    "    elif len(cell.content)==0:\n",
    "        return ''\n",
    "    else:\n",
    "        s=' '.join([str(c) for c in cell.content])\n",
    "        \n",
    "    #Tar bort og endrer navn:\n",
    "    s=s.replace('\\xa0','')\n",
    "    s=s.replace('\\n','')\n",
    "    s=s.replace('$','')\n",
    "    s=s.replace(',','')\n",
    "    s=s.replace('Country', 'Land')\n",
    "    s=s.replace('Year','År')\n",
    "    s=s.replace('Life expectancy at birth','forventet_levealder')\n",
    "    s=s.replace('GDP - per capita (PPP)','BNP_percap')\n",
    "\n",
    "    return s\n",
    "\n",
    "table=html_to_table(table_html)\n",
    "\n",
    "#printer ut toppen\n",
    "print(str(table)[:1000])"
   ]
  },
  {
   "cell_type": "code",
   "execution_count": 7,
   "id": "3da2b425-05bb-4257-9186-fa6b7a2789c1",
   "metadata": {},
   "outputs": [
    {
     "data": {
      "text/plain": [
       "'Land;År;forventet_levealder;BNP_percap'"
      ]
     },
     "execution_count": 7,
     "metadata": {},
     "output_type": "execute_result"
    }
   ],
   "source": [
    "';'.join(table[0])"
   ]
  },
  {
   "cell_type": "code",
   "execution_count": 8,
   "id": "24bd80c3-86f2-4c60-9923-5655aa7d9a31",
   "metadata": {},
   "outputs": [],
   "source": [
    "def save_data(file_name,table):\n",
    "    \"Saves table to file_name\"\n",
    "    f=open(file_name,'w')\n",
    "    for row in table:\n",
    "        f.write(';'.join(row)+'\\n')\n",
    "    f.close()\n",
    "    \n",
    "save_data('gdpleve.csv',table)"
   ]
  },
  {
   "cell_type": "code",
   "execution_count": 11,
   "id": "d8e07685-7d7b-4a90-b766-14ad6131c3b9",
   "metadata": {},
   "outputs": [
    {
     "data": {
      "text/html": [
       "<div>\n",
       "<style scoped>\n",
       "    .dataframe tbody tr th:only-of-type {\n",
       "        vertical-align: middle;\n",
       "    }\n",
       "\n",
       "    .dataframe tbody tr th {\n",
       "        vertical-align: top;\n",
       "    }\n",
       "\n",
       "    .dataframe thead th {\n",
       "        text-align: right;\n",
       "    }\n",
       "</style>\n",
       "<table border=\"1\" class=\"dataframe\">\n",
       "  <thead>\n",
       "    <tr style=\"text-align: right;\">\n",
       "      <th></th>\n",
       "      <th>Land</th>\n",
       "      <th>Ã",
       "r</th>\n",
       "      <th>forventet_levealder</th>\n",
       "      <th>BNP_percap</th>\n",
       "    </tr>\n",
       "  </thead>\n",
       "  <tbody>\n",
       "    <tr>\n",
       "      <th>0</th>\n",
       "      <td>Mozambique</td>\n",
       "      <td>2003</td>\n",
       "      <td>31.30</td>\n",
       "      <td>1200</td>\n",
       "    </tr>\n",
       "    <tr>\n",
       "      <th>1</th>\n",
       "      <td>Botswana</td>\n",
       "      <td>2003</td>\n",
       "      <td>32.26</td>\n",
       "      <td>9000</td>\n",
       "    </tr>\n",
       "    <tr>\n",
       "      <th>2</th>\n",
       "      <td>Zambia</td>\n",
       "      <td>2003</td>\n",
       "      <td>35.25</td>\n",
       "      <td>800</td>\n",
       "    </tr>\n",
       "    <tr>\n",
       "      <th>3</th>\n",
       "      <td>Lesotho</td>\n",
       "      <td>2003</td>\n",
       "      <td>36.94</td>\n",
       "      <td>3000</td>\n",
       "    </tr>\n",
       "    <tr>\n",
       "      <th>4</th>\n",
       "      <td>Angola</td>\n",
       "      <td>2003</td>\n",
       "      <td>36.96</td>\n",
       "      <td>1900</td>\n",
       "    </tr>\n",
       "    <tr>\n",
       "      <th>...</th>\n",
       "      <td>...</td>\n",
       "      <td>...</td>\n",
       "      <td>...</td>\n",
       "      <td>...</td>\n",
       "    </tr>\n",
       "    <tr>\n",
       "      <th>175</th>\n",
       "      <td>Australia</td>\n",
       "      <td>2003</td>\n",
       "      <td>80.13</td>\n",
       "      <td>29000</td>\n",
       "    </tr>\n",
       "    <tr>\n",
       "      <th>176</th>\n",
       "      <td>Singapore</td>\n",
       "      <td>2003</td>\n",
       "      <td>80.42</td>\n",
       "      <td>23700</td>\n",
       "    </tr>\n",
       "    <tr>\n",
       "      <th>177</th>\n",
       "      <td>Japan</td>\n",
       "      <td>2003</td>\n",
       "      <td>80.93</td>\n",
       "      <td>28200</td>\n",
       "    </tr>\n",
       "    <tr>\n",
       "      <th>178</th>\n",
       "      <td>Macau</td>\n",
       "      <td>2003</td>\n",
       "      <td>81.87</td>\n",
       "      <td>19400</td>\n",
       "    </tr>\n",
       "    <tr>\n",
       "      <th>179</th>\n",
       "      <td>Andorra</td>\n",
       "      <td>2003</td>\n",
       "      <td>83.49</td>\n",
       "      <td>26800</td>\n",
       "    </tr>\n",
       "  </tbody>\n",
       "</table>\n",
       "<p>180 rows × 4 columns</p>\n",
       "</div>"
      ],
      "text/plain": [
       "           Land   Ã\n",
       "r  forventet_levealder  BNP_percap\n",
       "0    Mozambique  2003                31.30        1200\n",
       "1      Botswana  2003                32.26        9000\n",
       "2        Zambia  2003                35.25         800\n",
       "3       Lesotho  2003                36.94        3000\n",
       "4        Angola  2003                36.96        1900\n",
       "..          ...   ...                  ...         ...\n",
       "175   Australia  2003                80.13       29000\n",
       "176   Singapore  2003                80.42       23700\n",
       "177       Japan  2003                80.93       28200\n",
       "178       Macau  2003                81.87       19400\n",
       "179     Andorra  2003                83.49       26800\n",
       "\n",
       "[180 rows x 4 columns]"
      ]
     },
     "execution_count": 11,
     "metadata": {},
     "output_type": "execute_result"
    }
   ],
   "source": [
    "import pandas as pd\n",
    "gdp=pd.read_csv('gdpleve.csv', delimiter=';', encoding='latin1')\n",
    "\n",
    "gdp"
   ]
  },
  {
   "cell_type": "code",
   "execution_count": 14,
   "id": "b43df2af-850e-47a1-9803-4ff4b83533d7",
   "metadata": {},
   "outputs": [
    {
     "data": {
      "text/plain": [
       "Land                    object\n",
       "Ã\n",
       "r                      int64\n",
       "forventet_levealder    float64\n",
       "BNP_percap               int64\n",
       "dtype: object"
      ]
     },
     "execution_count": 14,
     "metadata": {},
     "output_type": "execute_result"
    }
   ],
   "source": [
    "#sjekker om det er verdier eller objekter\n",
    "gdp.dtypes"
   ]
  },
  {
   "cell_type": "code",
   "execution_count": 16,
   "id": "93009ded-87c4-4846-9d04-b179c2507d7b",
   "metadata": {},
   "outputs": [
    {
     "data": {
      "text/plain": [
       "<matplotlib.legend.Legend at 0x7f5ca3b61070>"
      ]
     },
     "execution_count": 16,
     "metadata": {},
     "output_type": "execute_result"
    },
    {
     "data": {
      "image/png": "[encoded data removed]",
      "text/plain": [
       "<Figure size 432x288 with 1 Axes>"
      ]
     },
     "metadata": {
      "needs_background": "light"
     },
     "output_type": "display_data"
    }
   ],
   "source": [
    "from matplotlib import pyplot as plt\n",
    "\n",
    "fig,ax=plt.subplots()\n",
    "\n",
    "#Legge til navn på aksene:\n",
    "ax.set_ylabel('Forventet levealder')\n",
    "ax.set_xlabel('BNP per capita')\n",
    "\n",
    "#lager funksjonen som blir til et plot med verdiene våre:\n",
    "ax.scatter(gdp['BNP_percap'], gdp['forventet_levealder'],  label='Land')\n",
    "ax.legend(loc='lower right',frameon=False)"
   ]
  },
  {
   "cell_type": "code",
   "execution_count": 17,
   "id": "0519a498-78f9-4080-9610-e58545316d3a",
   "metadata": {},
   "outputs": [
    {
     "data": {
      "text/plain": [
       "<matplotlib.legend.Legend at 0x7f5ca3acdfa0>"
      ]
     },
     "execution_count": 17,
     "metadata": {},
     "output_type": "execute_result"
    },
    {
     "data": {
      "image/png": "[encoded data removed]",
      "text/plain": [
       "<Figure size 432x288 with 1 Axes>"
      ]
     },
     "metadata": {
      "needs_background": "light"
     },
     "output_type": "display_data"
    }
   ],
   "source": [
    "import numpy as np\n",
    "from matplotlib import pyplot as plt\n",
    "\n",
    "fig,ax=plt.subplots()\n",
    "\n",
    "#lager navn på aksene:\n",
    "ax.set_ylabel('Forventet levealder')\n",
    "ax.set_xlabel('BNP per capita')\n",
    "\n",
    "#lager funksjonen som blir til et plot med verdiene våre med numpy:\n",
    "ax.scatter(np.log(gdp['BNP_percap']), gdp['forventet_levealder'],  label='Land')\n",
    "ax.legend(loc='lower right',frameon=False)"
   ]
  },
  {
   "cell_type": "code",
   "execution_count": 18,
   "id": "ca03f7be-53f3-4868-b9e8-29bed2a5c4d2",
   "metadata": {},
   "outputs": [
    {
     "data": {
      "text/html": [
       "<div>\n",
       "<style scoped>\n",
       "    .dataframe tbody tr th:only-of-type {\n",
       "        vertical-align: middle;\n",
       "    }\n",
       "\n",
       "    .dataframe tbody tr th {\n",
       "        vertical-align: top;\n",
       "    }\n",
       "\n",
       "    .dataframe thead th {\n",
       "        text-align: right;\n",
       "    }\n",
       "</style>\n",
       "<table border=\"1\" class=\"dataframe\">\n",
       "  <thead>\n",
       "    <tr style=\"text-align: right;\">\n",
       "      <th></th>\n",
       "      <th>forventet_levealder</th>\n",
       "    </tr>\n",
       "  </thead>\n",
       "  <tbody>\n",
       "    <tr>\n",
       "      <th>0</th>\n",
       "      <td>31.30</td>\n",
       "    </tr>\n",
       "    <tr>\n",
       "      <th>1</th>\n",
       "      <td>32.26</td>\n",
       "    </tr>\n",
       "    <tr>\n",
       "      <th>2</th>\n",
       "      <td>35.25</td>\n",
       "    </tr>\n",
       "    <tr>\n",
       "      <th>3</th>\n",
       "      <td>36.94</td>\n",
       "    </tr>\n",
       "    <tr>\n",
       "      <th>4</th>\n",
       "      <td>36.96</td>\n",
       "    </tr>\n",
       "    <tr>\n",
       "      <th>...</th>\n",
       "      <td>...</td>\n",
       "    </tr>\n",
       "    <tr>\n",
       "      <th>175</th>\n",
       "      <td>80.13</td>\n",
       "    </tr>\n",
       "    <tr>\n",
       "      <th>176</th>\n",
       "      <td>80.42</td>\n",
       "    </tr>\n",
       "    <tr>\n",
       "      <th>177</th>\n",
       "      <td>80.93</td>\n",
       "    </tr>\n",
       "    <tr>\n",
       "      <th>178</th>\n",
       "      <td>81.87</td>\n",
       "    </tr>\n",
       "    <tr>\n",
       "      <th>179</th>\n",
       "      <td>83.49</td>\n",
       "    </tr>\n",
       "  </tbody>\n",
       "</table>\n",
       "<p>180 rows × 1 columns</p>\n",
       "</div>"
      ],
      "text/plain": [
       "     forventet_levealder\n",
       "0                  31.30\n",
       "1                  32.26\n",
       "2                  35.25\n",
       "3                  36.94\n",
       "4                  36.96\n",
       "..                   ...\n",
       "175                80.13\n",
       "176                80.42\n",
       "177                80.93\n",
       "178                81.87\n",
       "179                83.49\n",
       "\n",
       "[180 rows x 1 columns]"
      ]
     },
     "execution_count": 18,
     "metadata": {},
     "output_type": "execute_result"
    }
   ],
   "source": [
    "#lager en y\n",
    "y=gdp['forventet_levealder']\n",
    "pd.DataFrame(y)"
   ]
  },
  {
   "cell_type": "code",
   "execution_count": 20,
   "id": "d45be42a-f9c3-4df5-b06b-ac5598aacaba",
   "metadata": {},
   "outputs": [
    {
     "data": {
      "text/html": [
       "<div>\n",
       "<style scoped>\n",
       "    .dataframe tbody tr th:only-of-type {\n",
       "        vertical-align: middle;\n",
       "    }\n",
       "\n",
       "    .dataframe tbody tr th {\n",
       "        vertical-align: top;\n",
       "    }\n",
       "\n",
       "    .dataframe thead th {\n",
       "        text-align: right;\n",
       "    }\n",
       "</style>\n",
       "<table border=\"1\" class=\"dataframe\">\n",
       "  <thead>\n",
       "    <tr style=\"text-align: right;\">\n",
       "      <th></th>\n",
       "      <th>BNP_percap</th>\n",
       "      <th>intercept</th>\n",
       "    </tr>\n",
       "  </thead>\n",
       "  <tbody>\n",
       "    <tr>\n",
       "      <th>0</th>\n",
       "      <td>7.090077</td>\n",
       "      <td>1</td>\n",
       "    </tr>\n",
       "    <tr>\n",
       "      <th>1</th>\n",
       "      <td>9.104980</td>\n",
       "      <td>1</td>\n",
       "    </tr>\n",
       "    <tr>\n",
       "      <th>2</th>\n",
       "      <td>6.684612</td>\n",
       "      <td>1</td>\n",
       "    </tr>\n",
       "    <tr>\n",
       "      <th>3</th>\n",
       "      <td>8.006368</td>\n",
       "      <td>1</td>\n",
       "    </tr>\n",
       "    <tr>\n",
       "      <th>4</th>\n",
       "      <td>7.549609</td>\n",
       "      <td>1</td>\n",
       "    </tr>\n",
       "    <tr>\n",
       "      <th>...</th>\n",
       "      <td>...</td>\n",
       "      <td>...</td>\n",
       "    </tr>\n",
       "    <tr>\n",
       "      <th>175</th>\n",
       "      <td>10.275051</td>\n",
       "      <td>1</td>\n",
       "    </tr>\n",
       "    <tr>\n",
       "      <th>176</th>\n",
       "      <td>10.073230</td>\n",
       "      <td>1</td>\n",
       "    </tr>\n",
       "    <tr>\n",
       "      <th>177</th>\n",
       "      <td>10.247077</td>\n",
       "      <td>1</td>\n",
       "    </tr>\n",
       "    <tr>\n",
       "      <th>178</th>\n",
       "      <td>9.873028</td>\n",
       "      <td>1</td>\n",
       "    </tr>\n",
       "    <tr>\n",
       "      <th>179</th>\n",
       "      <td>10.196157</td>\n",
       "      <td>1</td>\n",
       "    </tr>\n",
       "  </tbody>\n",
       "</table>\n",
       "<p>180 rows × 2 columns</p>\n",
       "</div>"
      ],
      "text/plain": [
       "     BNP_percap  intercept\n",
       "0      7.090077          1\n",
       "1      9.104980          1\n",
       "2      6.684612          1\n",
       "3      8.006368          1\n",
       "4      7.549609          1\n",
       "..          ...        ...\n",
       "175   10.275051          1\n",
       "176   10.073230          1\n",
       "177   10.247077          1\n",
       "178    9.873028          1\n",
       "179   10.196157          1\n",
       "\n",
       "[180 rows x 2 columns]"
      ]
     },
     "execution_count": 20,
     "metadata": {},
     "output_type": "execute_result"
    }
   ],
   "source": [
    "#lager en x\n",
    "x=pd.DataFrame(np.log(gdp['BNP_percap']))\n",
    "x['intercept']=1\n",
    "x"
   ]
  },
  {
   "cell_type": "code",
   "execution_count": 21,
   "id": "9d9e024c-459b-425e-b6ad-ee6ea8908aab",
   "metadata": {},
   "outputs": [
    {
     "name": "stdout",
     "output_type": "stream",
     "text": [
      "                             OLS Regression Results                            \n",
      "===============================================================================\n",
      "Dep. Variable:     forventet_levealder   R-squared:                       0.594\n",
      "Model:                             OLS   Adj. R-squared:                  0.591\n",
      "Method:                  Least Squares   F-statistic:                     260.1\n",
      "Date:                 Thu, 31 Mar 2022   Prob (F-statistic):           1.19e-36\n",
      "Time:                         18:46:43   Log-Likelihood:                -632.17\n",
      "No. Observations:                  180   AIC:                             1268.\n",
      "Df Residuals:                      178   BIC:                             1275.\n",
      "Df Model:                            1                                         \n",
      "Covariance Type:             nonrobust                                         \n",
      "==============================================================================\n",
      "                 coef    std err          t      P>|t|      [0.025      0.975]\n",
      "------------------------------------------------------------------------------\n",
      "BNP_percap     8.0354      0.498     16.127      0.000       7.052       9.019\n",
      "intercept     -2.9200      4.314     -0.677      0.499     -11.432       5.592\n",
      "==============================================================================\n",
      "Omnibus:                       53.217   Durbin-Watson:                   0.953\n",
      "Prob(Omnibus):                  0.000   Jarque-Bera (JB):              153.824\n",
      "Skew:                          -1.201   Prob(JB):                     3.96e-34\n",
      "Kurtosis:                       6.840   Cond. No.                         62.2\n",
      "==============================================================================\n",
      "\n",
      "Notes:\n",
      "[1] Standard Errors assume that the covariance matrix of the errors is correctly specified.\n"
     ]
    }
   ],
   "source": [
    "#Nå kan vi finne hvilke koefisienter som passer best til dataene vi har. \n",
    "#Da bruker man OLS fra statsmodelsog for å sette inn y og x som vi allerede har bestemt hvilke dataer vi skal bruke \n",
    "#i forhold til hverandre. \n",
    "from statsmodels.regression.linear_model import OLS\n",
    "\n",
    "res=OLS(y,x).fit()\n",
    "\n",
    "print(res.summary())"
   ]
  },
  {
   "cell_type": "markdown",
   "id": "fd89a16d-eab7-4515-83f9-bc434e24604c",
   "metadata": {},
   "source": [
    "Over her vises resultatet på regresjonen.\n",
    "Legge spesielt merke til kolonnen under coef, for det er den som viser estimatene som phyton har gjort.\n",
    "Vi ser at Bnp per capita viser 8.0354 og intercepten viser -2.9200.\n",
    "Tallene fra regresjonen over blir lagret i res.params."
   ]
  },
  {
   "cell_type": "code",
   "execution_count": 22,
   "id": "d8023f51-70d7-42fc-a970-c25b40ef5473",
   "metadata": {},
   "outputs": [
    {
     "data": {
      "text/plain": [
       "BNP_percap    8.035419\n",
       "intercept    -2.920003\n",
       "dtype: float64"
      ]
     },
     "execution_count": 22,
     "metadata": {},
     "output_type": "execute_result"
    }
   ],
   "source": [
    "res.params"
   ]
  },
  {
   "cell_type": "code",
   "execution_count": 23,
   "id": "9080640c-8edb-4a5f-8725-694d9affd1be",
   "metadata": {},
   "outputs": [
    {
     "data": {
      "image/png": "[encoded data removed]",
      "text/plain": [
       "<Figure size 432x288 with 1 Axes>"
      ]
     },
     "execution_count": 23,
     "metadata": {},
     "output_type": "execute_result"
    }
   ],
   "source": [
    "#Lager plottet med regresjonen ved bruk av res.params med de lagede tallene.\n",
    "x=np.linspace(min(np.log(gdp['BNP_percap'])), max(np.log(gdp['BNP_percap'])), 100)\n",
    "\n",
    "regression_line=res.params['intercept']+res.params['BNP_percap']*x\n",
    "\n",
    "ax.plot(x, regression_line,color='red')\n",
    "fig"
   ]
  },
  {
   "cell_type": "markdown",
   "id": "fdad6059-bfe6-43f0-aa9e-e736ac3e2a00",
   "metadata": {},
   "source": [
    "Regresjonslinja passer meget godt til dataene fra nettsiden vi skrapet, og\n",
    "siden man har brukt OLS vet man at linja er den som har kortest avstand gjennomsnittlig til alle punkt.\n",
    "\"Avstanden\"  er målet som kvadratet av den vertikale differansen.\n",
    "\n",
    "Man kan si til folk flest generelt at jo høyere bnp pr capita er, jo høyere forventet levealder er det, for\n",
    "høyere bnp gir bedre levestandart og tilgang til bedre helsetilbud etc. og regresjonen viser den gjennomsnittelige\n",
    "trenden for alle punkt og den peker oppover og vi tolker det da som høyere bnp=høyere forventet levealder.\n",
    "\n"
   ]
  },
  {
   "cell_type": "markdown",
   "id": "56f50d2c-d1a7-4b68-9c9d-46ffcf7316bc",
   "metadata": {},
   "source": [
    "kodene har jeg hentet ifra notebooksene:\n",
    "\n",
    "## Kilder/Sources:\n",
    "\n",
    "Espen Sirnes (2022) 9 - webskraping med python (version 1.0)\n",
    "[Source code]. https://github.com/espensirnes/notebooks/9-webskraping-med-python\n",
    "\n",
    "Espen Sirnes (2022) 10 - statsmodels (version 1.0)\n",
    "[Source code]. https://github.com/espensirnes/notebooks/10-statsmodels\n",
    "\n",
    "selve tabellen er hentet fra : \n",
    "https://www.indexmundi.com/g/correlation.aspx?v1=30&v2=67&y=2003&l=en"
   ]
  }
 ],
 "metadata": {
  "kernelspec": {
   "display_name": "Python 3 (ipykernel)",
   "language": "python",
   "name": "python3"
  },
  "language_info": {
   "codemirror_mode": {
    "name": "ipython",
    "version": 3
   },
   "file_extension": ".py",
   "mimetype": "text/x-python",
   "name": "python",
   "nbconvert_exporter": "python",
   "pygments_lexer": "ipython3",
   "version": "3.9.9"
  }
 },
 "nbformat": 4,
 "nbformat_minor": 5
}
